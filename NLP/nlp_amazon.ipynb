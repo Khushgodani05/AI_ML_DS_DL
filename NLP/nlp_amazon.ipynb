{
 "cells": [
  {
   "cell_type": "code",
   "execution_count": 1,
   "id": "0eb79de9",
   "metadata": {},
   "outputs": [],
   "source": [
    "import pandas as pd\n",
    "import numpy as np\n",
    "import matplotlib.pyplot as plt"
   ]
  },
  {
   "cell_type": "code",
   "execution_count": 2,
   "id": "877e557a",
   "metadata": {},
   "outputs": [
    {
     "data": {
      "text/html": [
       "<div>\n",
       "<style scoped>\n",
       "    .dataframe tbody tr th:only-of-type {\n",
       "        vertical-align: middle;\n",
       "    }\n",
       "\n",
       "    .dataframe tbody tr th {\n",
       "        vertical-align: top;\n",
       "    }\n",
       "\n",
       "    .dataframe thead th {\n",
       "        text-align: right;\n",
       "    }\n",
       "</style>\n",
       "<table border=\"1\" class=\"dataframe\">\n",
       "  <thead>\n",
       "    <tr style=\"text-align: right;\">\n",
       "      <th></th>\n",
       "      <th>popularity</th>\n",
       "      <th>reviews_header</th>\n",
       "      <th>review_body</th>\n",
       "    </tr>\n",
       "  </thead>\n",
       "  <tbody>\n",
       "    <tr>\n",
       "      <th>0</th>\n",
       "      <td>2</td>\n",
       "      <td>One of the best game music soundtracks - for a...</td>\n",
       "      <td>Despite the fact that I have only played a sma...</td>\n",
       "    </tr>\n",
       "    <tr>\n",
       "      <th>1</th>\n",
       "      <td>1</td>\n",
       "      <td>Batteries died within a year ...</td>\n",
       "      <td>I bought this charger in Jul 2003 and it worke...</td>\n",
       "    </tr>\n",
       "    <tr>\n",
       "      <th>2</th>\n",
       "      <td>2</td>\n",
       "      <td>works fine, but Maha Energy is better</td>\n",
       "      <td>Check out Maha Energy's website. Their Powerex...</td>\n",
       "    </tr>\n",
       "    <tr>\n",
       "      <th>3</th>\n",
       "      <td>2</td>\n",
       "      <td>Great for the non-audiophile</td>\n",
       "      <td>Reviewed quite a bit of the combo players and ...</td>\n",
       "    </tr>\n",
       "    <tr>\n",
       "      <th>4</th>\n",
       "      <td>1</td>\n",
       "      <td>DVD Player crapped out after one year</td>\n",
       "      <td>I also began having the incorrect disc problem...</td>\n",
       "    </tr>\n",
       "  </tbody>\n",
       "</table>\n",
       "</div>"
      ],
      "text/plain": [
       "   popularity                                     reviews_header  \\\n",
       "0           2  One of the best game music soundtracks - for a...   \n",
       "1           1                   Batteries died within a year ...   \n",
       "2           2              works fine, but Maha Energy is better   \n",
       "3           2                       Great for the non-audiophile   \n",
       "4           1              DVD Player crapped out after one year   \n",
       "\n",
       "                                         review_body  \n",
       "0  Despite the fact that I have only played a sma...  \n",
       "1  I bought this charger in Jul 2003 and it worke...  \n",
       "2  Check out Maha Energy's website. Their Powerex...  \n",
       "3  Reviewed quite a bit of the combo players and ...  \n",
       "4  I also began having the incorrect disc problem...  "
      ]
     },
     "execution_count": 2,
     "metadata": {},
     "output_type": "execute_result"
    }
   ],
   "source": [
    "data=pd.read_csv(\"D:/Datasets/Amazon_reviews/test.csv\")\n",
    "data.columns=[\"popularity\",\"reviews_header\",\"review_body\"]\n",
    "data.head()"
   ]
  },
  {
   "cell_type": "code",
   "execution_count": 3,
   "id": "fd07e17f",
   "metadata": {},
   "outputs": [
    {
     "data": {
      "text/html": [
       "<div>\n",
       "<style scoped>\n",
       "    .dataframe tbody tr th:only-of-type {\n",
       "        vertical-align: middle;\n",
       "    }\n",
       "\n",
       "    .dataframe tbody tr th {\n",
       "        vertical-align: top;\n",
       "    }\n",
       "\n",
       "    .dataframe thead th {\n",
       "        text-align: right;\n",
       "    }\n",
       "</style>\n",
       "<table border=\"1\" class=\"dataframe\">\n",
       "  <thead>\n",
       "    <tr style=\"text-align: right;\">\n",
       "      <th></th>\n",
       "      <th>popularity</th>\n",
       "      <th>reviews_header</th>\n",
       "    </tr>\n",
       "  </thead>\n",
       "  <tbody>\n",
       "    <tr>\n",
       "      <th>0</th>\n",
       "      <td>2</td>\n",
       "      <td>One of the best game music soundtracks - for a...</td>\n",
       "    </tr>\n",
       "    <tr>\n",
       "      <th>1</th>\n",
       "      <td>1</td>\n",
       "      <td>Batteries died within a year ...</td>\n",
       "    </tr>\n",
       "    <tr>\n",
       "      <th>2</th>\n",
       "      <td>2</td>\n",
       "      <td>works fine, but Maha Energy is better</td>\n",
       "    </tr>\n",
       "    <tr>\n",
       "      <th>3</th>\n",
       "      <td>2</td>\n",
       "      <td>Great for the non-audiophile</td>\n",
       "    </tr>\n",
       "    <tr>\n",
       "      <th>4</th>\n",
       "      <td>1</td>\n",
       "      <td>DVD Player crapped out after one year</td>\n",
       "    </tr>\n",
       "    <tr>\n",
       "      <th>5</th>\n",
       "      <td>1</td>\n",
       "      <td>Incorrect Disc</td>\n",
       "    </tr>\n",
       "    <tr>\n",
       "      <th>6</th>\n",
       "      <td>1</td>\n",
       "      <td>DVD menu select problems</td>\n",
       "    </tr>\n",
       "    <tr>\n",
       "      <th>7</th>\n",
       "      <td>2</td>\n",
       "      <td>Unique Weird Orientalia from the 1930's</td>\n",
       "    </tr>\n",
       "    <tr>\n",
       "      <th>8</th>\n",
       "      <td>1</td>\n",
       "      <td>Not an \"ultimate guide\"</td>\n",
       "    </tr>\n",
       "    <tr>\n",
       "      <th>9</th>\n",
       "      <td>2</td>\n",
       "      <td>Great book for travelling Europe</td>\n",
       "    </tr>\n",
       "  </tbody>\n",
       "</table>\n",
       "</div>"
      ],
      "text/plain": [
       "   popularity                                     reviews_header\n",
       "0           2  One of the best game music soundtracks - for a...\n",
       "1           1                   Batteries died within a year ...\n",
       "2           2              works fine, but Maha Energy is better\n",
       "3           2                       Great for the non-audiophile\n",
       "4           1              DVD Player crapped out after one year\n",
       "5           1                                     Incorrect Disc\n",
       "6           1                           DVD menu select problems\n",
       "7           2            Unique Weird Orientalia from the 1930's\n",
       "8           1                            Not an \"ultimate guide\"\n",
       "9           2                   Great book for travelling Europe"
      ]
     },
     "execution_count": 3,
     "metadata": {},
     "output_type": "execute_result"
    }
   ],
   "source": [
    "df=data.iloc[:,0:2]\n",
    "df.head(10)"
   ]
  },
  {
   "cell_type": "code",
   "execution_count": 4,
   "id": "de0e3ec9",
   "metadata": {},
   "outputs": [
    {
     "data": {
      "text/plain": [
       "(399999, 2)"
      ]
     },
     "execution_count": 4,
     "metadata": {},
     "output_type": "execute_result"
    }
   ],
   "source": [
    "df.shape"
   ]
  },
  {
   "cell_type": "code",
   "execution_count": 5,
   "id": "178471c5",
   "metadata": {},
   "outputs": [
    {
     "name": "stdout",
     "output_type": "stream",
     "text": [
      "<class 'pandas.core.frame.DataFrame'>\n",
      "RangeIndex: 399999 entries, 0 to 399998\n",
      "Data columns (total 2 columns):\n",
      " #   Column          Non-Null Count   Dtype \n",
      "---  ------          --------------   ----- \n",
      " 0   popularity      399999 non-null  int64 \n",
      " 1   reviews_header  399975 non-null  object\n",
      "dtypes: int64(1), object(1)\n",
      "memory usage: 6.1+ MB\n"
     ]
    }
   ],
   "source": [
    "df.info()"
   ]
  },
  {
   "cell_type": "code",
   "execution_count": 6,
   "id": "1d251af5",
   "metadata": {},
   "outputs": [
    {
     "data": {
      "text/plain": [
       "((399999,), dtype('int64'))"
      ]
     },
     "execution_count": 6,
     "metadata": {},
     "output_type": "execute_result"
    }
   ],
   "source": [
    "y=df.popularity.values\n",
    "y.shape,y.dtype"
   ]
  },
  {
   "cell_type": "code",
   "execution_count": 7,
   "id": "4eb79d28",
   "metadata": {},
   "outputs": [
    {
     "data": {
      "text/plain": [
       "(dtype('O'),\n",
       " array([\"One of the best game music soundtracks - for a game I didn't really play\",\n",
       "        'Batteries died within a year ...',\n",
       "        'works fine, but Maha Energy is better',\n",
       "        'Great for the non-audiophile',\n",
       "        'DVD Player crapped out after one year'], dtype=object))"
      ]
     },
     "execution_count": 7,
     "metadata": {},
     "output_type": "execute_result"
    }
   ],
   "source": [
    "x=df.iloc[:,1].values\n",
    "x.shape\n",
    "x.dtype,x[:5]"
   ]
  },
  {
   "cell_type": "code",
   "execution_count": 8,
   "metadata": {},
   "outputs": [
    {
     "data": {
      "text/plain": [
       "['One of the best game music soundtracks   for a game I didn t really play',\n",
       " 'Batteries died within a year    ',\n",
       " 'works fine  but Maha Energy is better',\n",
       " 'Great for the non audiophile',\n",
       " 'DVD Player crapped out after one year']"
      ]
     },
     "execution_count": 8,
     "metadata": {},
     "output_type": "execute_result"
    }
   ],
   "source": [
    "import re\n",
    "filtered_rev=[]\n",
    "for rev in x:\n",
    "    #X has to be in 1D only\n",
    "    rev=re.sub('[^a-zA-Z]', ' ', str(rev))\n",
    "    filtered_rev.append(rev)\n",
    "x=filtered_rev\n",
    "x[:5]"
   ]
  },
  {
   "cell_type": "code",
   "execution_count": 9,
   "id": "5da4bee8",
   "metadata": {},
   "outputs": [
    {
     "data": {
      "text/plain": [
       "[['one',\n",
       "  'of',\n",
       "  'the',\n",
       "  'best',\n",
       "  'game',\n",
       "  'music',\n",
       "  'soundtracks',\n",
       "  'for',\n",
       "  'a',\n",
       "  'game',\n",
       "  'i',\n",
       "  'didn',\n",
       "  't',\n",
       "  'really',\n",
       "  'play'],\n",
       " ['batteries', 'died', 'within', 'a', 'year'],\n",
       " ['works', 'fine', 'but', 'maha', 'energy', 'is', 'better'],\n",
       " ['great', 'for', 'the', 'non', 'audiophile'],\n",
       " ['dvd', 'player', 'crapped', 'out', 'after', 'one', 'year']]"
      ]
     },
     "execution_count": 9,
     "metadata": {},
     "output_type": "execute_result"
    }
   ],
   "source": [
    "review_bag=[]\n",
    "for data in x:\n",
    "    data=data.lower()\n",
    "    data=data.split()\n",
    "    review_bag.append(data)\n",
    "x=review_bag\n",
    "x[:5]"
   ]
  },
  {
   "cell_type": "code",
   "execution_count": 10,
   "id": "db3d42a0",
   "metadata": {},
   "outputs": [],
   "source": [
    "import nltk\n",
    "from nltk.corpus import stopwords"
   ]
  },
  {
   "cell_type": "code",
   "execution_count": 11,
   "id": "e7304001",
   "metadata": {},
   "outputs": [
    {
     "data": {
      "text/plain": [
       "[['one', 'best', 'game', 'music', 'soundtracks', 'game', 'really', 'play'],\n",
       " ['batteries', 'died', 'within', 'year'],\n",
       " ['works', 'fine', 'maha', 'energy', 'better'],\n",
       " ['great', 'non', 'audiophile'],\n",
       " ['dvd', 'player', 'crapped', 'one', 'year']]"
      ]
     },
     "execution_count": 11,
     "metadata": {},
     "output_type": "execute_result"
    }
   ],
   "source": [
    "stopword_removed=[]\n",
    "nonstopword=[\"not\"]\n",
    "for rev in x:\n",
    "    short_stopwordremove=[]\n",
    "    for data in rev:\n",
    "        if data not in stopwords.words(\"english\"):\n",
    "            short_stopwordremove.append(data)\n",
    "        if data in nonstopword:\n",
    "            short_stopwordremove.append(data)\n",
    "    stopword_removed.append(short_stopwordremove)\n",
    "    \n",
    "x=stopword_removed\n",
    "x[:5]"
   ]
  },
  {
   "cell_type": "code",
   "execution_count": 12,
   "id": "376d205d",
   "metadata": {},
   "outputs": [
    {
     "data": {
      "text/plain": [
       "[['one', 'best', 'game', 'music', 'soundtrack', 'realli', 'play'],\n",
       " ['batteri', 'die', 'within', 'year'],\n",
       " ['work', 'fine', 'maha', 'energi', 'better'],\n",
       " ['great', 'non', 'audiophil'],\n",
       " ['dvd', 'player', 'crap', 'one', 'year']]"
      ]
     },
     "execution_count": 12,
     "metadata": {},
     "output_type": "execute_result"
    }
   ],
   "source": [
    "from nltk.stem.porter import PorterStemmer\n",
    "ps=PorterStemmer()\n",
    "stemmed_bag=[]\n",
    "for rev in x:\n",
    "    stem_word=[]\n",
    "    for data in rev:\n",
    "        stemword=ps.stem(data)\n",
    "        if stemword not in stem_word:\n",
    "            stem_word.append(stemword)\n",
    "    stemmed_bag.append(stem_word)\n",
    "x=stemmed_bag\n",
    "x[:5]"
   ]
  },
  {
   "cell_type": "code",
   "execution_count": 13,
   "id": "c240f7c9",
   "metadata": {},
   "outputs": [
    {
     "data": {
      "text/plain": [
       "(['one best game music soundtrack realli play',\n",
       "  'batteri die within year',\n",
       "  'work fine maha energi better',\n",
       "  'great non audiophil',\n",
       "  'dvd player crap one year'],\n",
       " 399999)"
      ]
     },
     "execution_count": 13,
     "metadata": {},
     "output_type": "execute_result"
    }
   ],
   "source": [
    "final_review=[]\n",
    "for rev in x:\n",
    "    rev=\" \".join(rev)\n",
    "    final_review.append(rev)\n",
    "    \n",
    "x=final_review\n",
    "x[:5],len(x)"
   ]
  },
  {
   "cell_type": "code",
   "execution_count": 14,
   "id": "1177deef",
   "metadata": {},
   "outputs": [],
   "source": [
    "from sklearn.feature_extraction.text import CountVectorizer\n",
    "cv=CountVectorizer()"
   ]
  },
  {
   "cell_type": "code",
   "execution_count": 15,
   "id": "69c08fa7",
   "metadata": {},
   "outputs": [
    {
     "data": {
      "text/plain": [
       "array([[0, 0, 0, ..., 0, 0, 0]], dtype=int64)"
      ]
     },
     "execution_count": 15,
     "metadata": {},
     "output_type": "execute_result"
    }
   ],
   "source": [
    "#.to aaray() is to convert sparse csr_matrix into array\n",
    "x=cv.fit_transform(x)\n",
    "x[0].toarray()"
   ]
  },
  {
   "cell_type": "code",
   "execution_count": 16,
   "id": "4e2b259d",
   "metadata": {},
   "outputs": [
    {
     "data": {
      "text/plain": [
       "(45009, array([0, 0, 0, ..., 0, 0, 0], dtype=int64))"
      ]
     },
     "execution_count": 16,
     "metadata": {},
     "output_type": "execute_result"
    }
   ],
   "source": [
    "len(cv.get_feature_names_out()),sum(x[0].toarray())"
   ]
  },
  {
   "cell_type": "code",
   "execution_count": 17,
   "id": "e9072b6e",
   "metadata": {},
   "outputs": [
    {
     "data": {
      "text/plain": [
       "array([0, 0, 0, ..., 0, 0, 0])"
      ]
     },
     "execution_count": 17,
     "metadata": {},
     "output_type": "execute_result"
    }
   ],
   "source": [
    "sum(x[0].toarray()==1)"
   ]
  },
  {
   "cell_type": "code",
   "execution_count": 18,
   "id": "878b6007",
   "metadata": {},
   "outputs": [
    {
     "data": {
      "text/plain": [
       "(399999, 45009)"
      ]
     },
     "execution_count": 18,
     "metadata": {},
     "output_type": "execute_result"
    }
   ],
   "source": [
    "x.shape"
   ]
  },
  {
   "cell_type": "code",
   "execution_count": 19,
   "id": "a906b7cd",
   "metadata": {},
   "outputs": [],
   "source": [
    "from sklearn.model_selection import train_test_split\n",
    "x_train,x_test,y_train,y_test=train_test_split(x,y,test_size=0.2,random_state=47,stratify=y)"
   ]
  },
  {
   "cell_type": "code",
   "execution_count": null,
   "id": "8d284d91",
   "metadata": {},
   "outputs": [
    {
     "name": "stderr",
     "output_type": "stream",
     "text": [
      "c:\\Users\\S\\anaconda3\\Lib\\site-packages\\sklearn\\linear_model\\_logistic.py:458: ConvergenceWarning: lbfgs failed to converge (status=1):\n",
      "STOP: TOTAL NO. of ITERATIONS REACHED LIMIT.\n",
      "\n",
      "Increase the number of iterations (max_iter) or scale the data as shown in:\n",
      "    https://scikit-learn.org/stable/modules/preprocessing.html\n",
      "Please also refer to the documentation for alternative solver options:\n",
      "    https://scikit-learn.org/stable/modules/linear_model.html#logistic-regression\n",
      "  n_iter_i = _check_optimize_result(\n"
     ]
    }
   ],
   "source": [
    "# from sklearn.svm import SVC\n",
    "# svc=SVC(kernel=\"rbf\",C=1)\n",
    "# model=svc.fit(x_train,y_train)\n",
    "# y_pred=model.predict(x_test)\n",
    "from sklearn.linear_model import LogisticRegression\n",
    "#max_iter to be increased to eg 500 in logistic regression\n",
    "lgr=LogisticRegression()\n",
    "model=lgr.fit(x_train,y_train)\n",
    "y_pred=model.predict(x_test)"
   ]
  },
  {
   "cell_type": "code",
   "execution_count": 21,
   "id": "95975c07",
   "metadata": {},
   "outputs": [
    {
     "data": {
      "text/plain": [
       "(array([1, 2, 2, ..., 1, 2, 2], dtype=int64),\n",
       " array([1, 2, 2, ..., 1, 2, 2], dtype=int64))"
      ]
     },
     "execution_count": 21,
     "metadata": {},
     "output_type": "execute_result"
    }
   ],
   "source": [
    "y_pred,y_test.ravel()"
   ]
  },
  {
   "cell_type": "code",
   "execution_count": 22,
   "id": "bac0ba29",
   "metadata": {},
   "outputs": [
    {
     "data": {
      "text/plain": [
       "(0.8470307719711624, 0.818625)"
      ]
     },
     "execution_count": 22,
     "metadata": {},
     "output_type": "execute_result"
    }
   ],
   "source": [
    "lgr.score(x_train,y_train),lgr.score(x_test,y_test)"
   ]
  },
  {
   "cell_type": "code",
   "execution_count": null,
   "id": "e8e36cdf",
   "metadata": {},
   "outputs": [],
   "source": []
  }
 ],
 "metadata": {
  "kernelspec": {
   "display_name": "base",
   "language": "python",
   "name": "python3"
  },
  "language_info": {
   "codemirror_mode": {
    "name": "ipython",
    "version": 3
   },
   "file_extension": ".py",
   "mimetype": "text/x-python",
   "name": "python",
   "nbconvert_exporter": "python",
   "pygments_lexer": "ipython3",
   "version": "3.11.7"
  }
 },
 "nbformat": 4,
 "nbformat_minor": 5
}
